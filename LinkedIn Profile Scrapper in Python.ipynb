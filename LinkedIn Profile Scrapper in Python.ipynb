{
 "cells": [
  {
   "cell_type": "markdown",
   "metadata": {},
   "source": [
    "## LinkedIn Profile Scrapper in Python with Local LLM"
   ]
  },
  {
   "cell_type": "code",
   "execution_count": 1,
   "metadata": {},
   "outputs": [
    {
     "data": {
      "text/plain": [
       "True"
      ]
     },
     "execution_count": 1,
     "metadata": {},
     "output_type": "execute_result"
    }
   ],
   "source": [
    "import os\n",
    "import warnings\n",
    "from dotenv import load_dotenv\n",
    "\n",
    "os.environ['KMP_DUPLICATE_LIB_OK'] = 'True'\n",
    "warnings.filterwarnings(\"ignore\")\n",
    "\n",
    "load_dotenv()"
   ]
  },
  {
   "cell_type": "code",
   "execution_count": 2,
   "metadata": {},
   "outputs": [],
   "source": [
    "import requests, time, random\n",
    "from bs4 import BeautifulSoup\n",
    "from selenium import webdriver\n",
    "\n",
    "from selenium.webdriver.common.by import By\n",
    "\n",
    "from time import sleep\n",
    "\n",
    "\n",
    "from selenium.webdriver import ActionChains\n",
    "from selenium.webdriver.common.by import By\n",
    "from selenium.webdriver.common.actions.wheel_input import ScrollOrigin"
   ]
  },
  {
   "cell_type": "code",
   "execution_count": 3,
   "metadata": {},
   "outputs": [],
   "source": [
    "driver = webdriver.Chrome()"
   ]
  },
  {
   "cell_type": "code",
   "execution_count": 4,
   "metadata": {},
   "outputs": [
    {
     "data": {
      "text/plain": [
       "'LinkedIn Login, Sign in | LinkedIn'"
      ]
     },
     "execution_count": 4,
     "metadata": {},
     "output_type": "execute_result"
    }
   ],
   "source": [
    "driver.get(\"https://www.linkedin.com/uas/login\")\n",
    "driver.title"
   ]
  },
  {
   "cell_type": "code",
   "execution_count": 5,
   "metadata": {},
   "outputs": [],
   "source": [
    "elementID = driver.find_element(By.ID,'username')\n",
    "elementID.send_keys(os.environ['EMAIL'])\n",
    "\n",
    "elementID = driver.find_element(By.ID, 'password')\n",
    "elementID.send_keys(os.environ['PASSWORD'])\n",
    "\n",
    "elementID.submit()"
   ]
  },
  {
   "cell_type": "code",
   "execution_count": 6,
   "metadata": {},
   "outputs": [],
   "source": [
    "driver.implicitly_wait(5)"
   ]
  },
  {
   "cell_type": "code",
   "execution_count": 7,
   "metadata": {},
   "outputs": [],
   "source": [
    "driver.get(\"https://www.linkedin.com/in/laxmimerit\")"
   ]
  },
  {
   "cell_type": "code",
   "execution_count": 8,
   "metadata": {},
   "outputs": [
    {
     "data": {
      "text/plain": [
       "'\\n          Gen AI in Finance & Investment Services | Data Scientist | IIT Kharagpur | Asset Management | AI-Driven Financial Modeling | Search Ranking | NLP Python BERT AWS Elasticsearch GNN SQL LLM | AI in Investment Strategies\\n        '"
      ]
     },
     "execution_count": 8,
     "metadata": {},
     "output_type": "execute_result"
    }
   ],
   "source": [
    "# read profile headline\n",
    "page_source = driver.page_source\n",
    "soup = BeautifulSoup(page_source, 'lxml')\n",
    "\n",
    "content = soup.find('div', {'class':'text-body-medium'})\n",
    "content.get_text()"
   ]
  },
  {
   "cell_type": "code",
   "execution_count": 9,
   "metadata": {},
   "outputs": [
    {
     "data": {
      "text/plain": [
       "'\\n\\n\\n\\nDemonstrated 8+ years of expertise in advanced analytics as an AVP in Data Science, showcasing dynamic and impactful contributions. Seeking to leverage expertise in customer behavior modeling, personalized marketing, product discovery & search optimization, and recommendations to drive impactful solutions in the fields of Data Science, Machine Learning, and Artificial Intelligence.👉 Significant Achievements Across Career▪ Strategically led impactful initiatives in Customer Behavior Modeling, resulting in a substantial 30% increase in customer retention and a 10% reduction in advertising spending.▪ Pioneered the development and implementation of a Machine Learning product relevance ranking system, contributing to a remarkable 30% increase in conversion rates and a 20% growth in revenue.▪ Applied innovative techniques, including Social Graph Analytics and Predictive  Modeling, achieving a 35% improvement in recommendation conversion rates and a 40% increase in customer care calling conversion rates.▪ Revolutionized customer segmentation and ranking, realizing a notable 20% improvement in conversion rates.▪ Engineered predictive models for email open rates, driving a remarkable 70% improvement in email engagement.▪ Achieved transformative outcomes, including a substantial 50% improvement in search conversion rates, a notable 60% increase in revenue, and an impressive 90% reduction in zero-result queries.▪ A strategic driver of user satisfaction and engagement, evidenced by a commendable 10% decrease in exit rates.Demonstrated 8+ years of expertise in advanced analytics as an AVP in Data Science, showcasing dynamic and impactful contributions. Seeking to leverage expertise in customer behavior modeling, personalized marketing, product discovery & search optimization, and recommendations to drive impactful solutions in the fields of Data Science, Machine Learning, and Artificial Intelligence.\\n\\n👉 Significant Achievements Across Career\\n▪ Strategically led impactful initiatives in Customer Behavior Modeling, resulting in a substantial 30% increase in customer retention and a 10% reduction in advertising spending.\\n\\n▪ Pioneered the development and implementation of a Machine Learning product relevance ranking system, contributing to a remarkable 30% increase in conversion rates and a 20% growth in revenue.\\n\\n▪ Applied innovative techniques, including Social Graph Analytics and Predictive  Modeling, achieving a 35% improvement in recommendation conversion rates and a 40% increase in customer care calling conversion rates.\\n\\n▪ Revolutionized customer segmentation and ranking, realizing a notable 20% improvement in conversion rates.\\n\\n▪ Engineered predictive models for email open rates, driving a remarkable 70% improvement in email engagement.\\n\\n▪ Achieved transformative outcomes, including a substantial 50% improvement in search conversion rates, a notable 60% increase in revenue, and an impressive 90% reduction in zero-result queries.\\n\\n▪ A strategic driver of user satisfaction and engagement, evidenced by a commendable 10% decrease in exit rates.\\n\\n \\n\\n\\n'"
      ]
     },
     "execution_count": 9,
     "metadata": {},
     "output_type": "execute_result"
    }
   ],
   "source": [
    "# Show more button for profile description\n",
    "driver.find_element(By.CLASS_NAME, \"inline-show-more-text__button\").click()\n",
    "\n",
    "page_source = driver.page_source\n",
    "soup = BeautifulSoup(page_source, 'lxml')\n",
    "content = soup.find('div', {'class':'display-flex ph5 pv3'})\n",
    "content.get_text()"
   ]
  },
  {
   "cell_type": "code",
   "execution_count": 156,
   "metadata": {},
   "outputs": [
    {
     "data": {
      "text/plain": [
       "'\\n\\n\\n\\n\\n\\n\\n\\n\\n\\n \\nExperienceExperience\\n\\n \\n \\n \\n\\n\\n \\n\\n \\n\\n\\n\\n\\n\\n \\n\\n\\n\\n\\n\\n\\n\\n\\n\\n\\n\\nIGPIGP\\n\\n\\n\\n \\n\\nFull-time · 4 yrs 10 mosFull-time · 4 yrs 10 mos\\n\\n \\n\\n \\n\\n \\n\\n\\n\\n\\n\\n\\n\\n\\n\\n\\n\\n\\n\\n\\n\\nAssistant Vice PresidentAssistant Vice President\\n\\n\\n\\n \\n \\nOct 2023 - Sep 2024 · 1 yrOct 2023 to Sep 2024 · 1 yr\\n\\n\\nMumbai, Maharashtra, IndiaMumbai, Maharashtra, India\\n\\n\\n\\n \\n\\n \\n\\n\\n \\n\\n\\n\\n\\n\\n👉Customer Behavior Modeling:Estimating Customer Lifetime Value (CLV) predicts customer worth, churn forecasts retention, and purchase propensity gauges transaction counts and spending. Tier transition analysis influences segmentation, retention, and personalized marketing, enhancing satisfaction, loyalty, and revenue.👉Hashtag Search:Enhancing search functionality by integrating product attributes into phrases for a more intuitive and efficient product discovery process.👉Automated Customer Feedback Report:Utilizing fine-tuning of a Large Language Model to generate diverse supervised data, addressing imbalances in actual data for improved analysis and data-driven decision-making in customer satisfaction and issue resolution.👉Meta Tag Generator for PLP, PDP, and Query Pages:The \"Meta Tag Generator\" project automates meta tag creation for PLP, PDP, and Query Pages, optimizing search engine visibility and attracting targeted traffic to the website.👉Customer Behavior Modeling:\\nEstimating Customer Lifetime Value (CLV) predicts customer worth, churn forecasts retention, and purchase propensity gauges transaction counts and spending. Tier transition analysis influences segmentation, retention, and personalized marketing, enhancing satisfaction, loyalty, and revenue.\\n\\n👉Hashtag Search:\\nEnhancing search functionality by integrating product attributes into phrases for a more intuitive and efficient product discovery process.\\n\\n👉Automated Customer Feedback Report:\\nUtilizing fine-tuning of a Large Language Model to generate diverse supervised data, addressing imbalances in actual data for improved analysis and data-driven decision-making in customer satisfaction and issue resolution.\\n\\n👉Meta Tag Generator for PLP, PDP, and Query Pages:\\nThe \"Meta Tag Generator\" project automates meta tag creation for PLP, PDP, and Query Pages, optimizing search engine visibility and attracting targeted traffic to the website.\\n\\n \\n              …see more\\n            \\n\\n \\n\\n\\n\\n\\n\\n \\n\\n\\n \\n\\n \\n\\n\\n\\n\\n\\n\\n\\n\\n\\n\\n\\n\\n\\n\\n\\n\\nAssociate Vice PresidentAssociate Vice President\\n\\n\\n\\n \\n \\nApr 2021 - Oct 2023 · 2 yrs 7 mosApr 2021 to Oct 2023 · 2 yrs 7 mos\\n\\n\\nMumbai, Maharashtra, India · On-siteMumbai, Maharashtra, India · On-site\\n\\n\\n\\n \\n\\n \\n\\n\\n \\n\\n\\n\\n\\n\\n👉Personalized Search:Engineered dynamic product ranking tailored to individual users, optimizing the search experience based on user preferences.👉Graph and Big Data Analysis:Designed and implemented graph and big-data analysis tools to extract valuable insights, contributing to strategic decision-making.👉Implicit Customer Features Identification:Utilized demographic data, including religion, native region, and gender, to drive targeted marketing, resulting in personalized recommendations and search suggestions aligned with individual preferences.👉Social Graph Analytics for Personalized Search and Recommendation:Analyzed user social graphs and click journeys to develop sophisticated recommendation systems, providing personalized suggestions based on user behavior and connections.👉Customer Segmentation and Ranking:Implemented techniques to segment customers based on diverse attributes and ranked them according to relevance and potential value, enhancing the personalization of product rankings.👉Image Segmentation and Phrase Generation:Applied image segmentation techniques to enrich e-commerce product attributes and utilized phrase generation to create descriptive and informative content.👉Customer Purchase Intention and Cart Value Prediction:Developed models for predicting customer purchase intentions and cart values, contributing to optimized marketing strategies and an improved shopping experience.👉User Category and MRP Affinity:Explored user categories and their affinity towards specific products or price ranges, leveraging insights to enhance personalized recommendations and targeted marketing efforts.👉Social Graph-Based Occasion Marking and Relation Prediction:Leveraged the social graph to identify occasions and predict user relationships, facilitating personalized recommendations aligned with specific events or social connections.👉Personalized Search:\\nEngineered dynamic product ranking tailored to individual users, optimizing the search experience based on user preferences.\\n\\n👉Graph and Big Data Analysis:\\nDesigned and implemented graph and big-data analysis tools to extract valuable insights, contributing to strategic decision-making.\\n\\n👉Implicit Customer Features Identification:\\nUtilized demographic data, including religion, native region, and gender, to drive targeted marketing, resulting in personalized recommendations and search suggestions aligned with individual preferences.\\n\\n👉Social Graph Analytics for Personalized Search and Recommendation:\\nAnalyzed user social graphs and click journeys to develop sophisticated recommendation systems, providing personalized suggestions based on user behavior and connections.\\n\\n👉Customer Segmentation and Ranking:\\nImplemented techniques to segment customers based on diverse attributes and ranked them according to relevance and potential value, enhancing the personalization of product rankings.\\n\\n👉Image Segmentation and Phrase Generation:\\nApplied image segmentation techniques to enrich e-commerce product attributes and utilized phrase generation to create descriptive and informative content.\\n\\n👉Customer Purchase Intention and Cart Value Prediction:\\nDeveloped models for predicting customer purchase intentions and cart values, contributing to optimized marketing strategies and an improved shopping experience.\\n\\n👉User Category and MRP Affinity:\\nExplored user categories and their affinity towards specific products or price ranges, leveraging insights to enhance personalized recommendations and targeted marketing efforts.\\n\\n👉Social Graph-Based Occasion Marking and Relation Prediction:\\nLeveraged the social graph to identify occasions and predict user relationships, facilitating personalized recommendations aligned with specific events or social connections.\\n\\n \\n              …see more\\n            \\n\\n \\n\\n\\n\\n\\n\\n \\n\\n\\n \\n\\n \\n\\n\\n\\n\\n\\n\\n\\n\\n\\n\\n\\n\\n\\n\\n\\n\\nData Science ManagerData Science Manager\\n\\n\\n\\n \\n \\nDec 2019 - Apr 2021 · 1 yr 5 mosDec 2019 to Apr 2021 · 1 yr 5 mos\\n\\n\\nBengaluru, Karnataka, IndiaBengaluru, Karnataka, India\\n\\n\\n\\n \\n\\n \\n\\n\\n \\n\\n\\n\\n\\n\\nExtraction of Syntactic and Semantic search queries. Machine learning models for query correction, product search, product ranking, user profiling, and revenue impact. Architecture for data flow, annotation, modeling, and deployment flow.👉Marketing Email Subject Line Open Rate Predictor:Developed a predictive model to forecast open rates for marketing email subject lines, empowering the formulation of effective email campaign strategies and elevating customer engagement.👉Extraction of Syntactic and Semantic Search Queries:Implemented machine learning models for the extraction of syntactic and semantic search queries, covering query correction, product search, product ranking, user profiling, and assessing revenue impact. Established an architecture for seamless data flow, annotation, modeling, and deployment.👉AI-Powered Search at IGP.COM:- Implemented dynamic query suggestions and advanced \\'BERT\\' Transformers algorithms for precise searches.- Enabled real-time syntactic and semantic analysis with adaptive typo tolerance and Hinglish spelling correction.- Applied AI-driven demographic filtering and intelligent synonym selection.- Achieved a 20% improvement in search conversion, a 25% enhancement in revenue generated by search, a 90% reduction in zero-result queries, and a 10% decrease in exit rates.👉Graph-Powered Products Recommendation in Real-time:Introduced features such as \"People like you also buy,\" \"Frequently bought together,\" \"After viewing this, people bought,\" and \"Products based on your shopping trends\" for real-time, graph-powered product recommendations.Extraction of Syntactic and Semantic search queries. Machine learning models for query correction, product search, product ranking, user profiling, and revenue impact. Architecture for data flow, annotation, modeling, and deployment flow.\\n\\n👉Marketing Email Subject Line Open Rate Predictor:\\nDeveloped a predictive model to forecast open rates for marketing email subject lines, empowering the formulation of effective email campaign strategies and elevating customer engagement.\\n\\n👉Extraction of Syntactic and Semantic Search Queries:\\nImplemented machine learning models for the extraction of syntactic and semantic search queries, covering query correction, product search, product ranking, user profiling, and assessing revenue impact. Established an architecture for seamless data flow, annotation, modeling, and deployment.\\n\\n👉AI-Powered Search at IGP.COM:\\n- Implemented dynamic query suggestions and advanced \\'BERT\\' Transformers algorithms for precise searches.\\n- Enabled real-time syntactic and semantic analysis with adaptive typo tolerance and Hinglish spelling correction.\\n- Applied AI-driven demographic filtering and intelligent synonym selection.\\n- Achieved a 20% improvement in search conversion, a 25% enhancement in revenue generated by search, a 90% reduction in zero-result queries, and a 10% decrease in exit rates.\\n\\n👉Graph-Powered Products Recommendation in Real-time:\\nIntroduced features such as \"People like you also buy,\" \"Frequently bought together,\" \"After viewing this, people bought,\" and \"Products based on your shopping trends\" for real-time, graph-powered product recommendations.\\n\\n \\n              …see more\\n            \\n\\n \\n\\n\\n\\n\\n\\n \\n\\n\\n \\n\\n \\n\\n\\n \\n\\n \\n\\n\\n \\n\\n\\n\\n\\n\\n \\n\\n\\n\\n\\n\\n\\n\\n\\n\\n\\n\\nmBreathmBreath\\n\\n\\n\\n \\n\\n3 yrs 4 mos3 yrs 4 mos\\n\\n \\n\\n \\n\\n \\n\\n\\n\\n\\n\\n\\n\\n\\n\\n\\n\\n\\n\\n\\n\\nCo-FounderCo-Founder\\n\\n\\n\\n \\n \\nAug 2016 - Nov 2019 · 3 yrs 4 mosAug 2016 to Nov 2019 · 3 yrs 4 mos\\n\\n\\nSTEP, IIT KharagpurSTEP, IIT Kharagpur\\n\\n\\n\\n \\n\\n \\n\\n\\n \\n\\n\\n\\n\\n\\nThere are some of the project which I did at mBreath.Real-Time Human Vital Parameter Estimation Using Pressure Sensor and Machine LearningMeasured respiration and heart rate through an array of pressure sensors and Deep Learning (CNN, RNN-LSTM) algorithms. [Filed Patent Ref No. 201731038573]. 96% accuracy was achieved. The project had three stages 1) preprocessing with analog filters, 2) Digital Signal Processing, 3) Machine Learning model thereafter data is uploaded to the cloud for further processing.Real-time Classification of Environmental Sounds & Their Impacts on Sleep QualityCollected audio using a microphone and Qualcomm’s Snapdragon processor enabled custom-built board running Android 6.0. Audio Cleaning, Feature Extraction (more than 700 features) in Temporal, Spectral, Energy, Harmonic, and Cepstral domain, Feature Selection for faster training and better accuracy and ML models (CNN, LSTM, RF, SVM) are designed to classify snoring and other sound and their impact on sleep quality.A Real-Time System and Methods for the Detection of Sleep Apnea and Sleep StageUsed CNN, Inception, LSTM, CNN-LSTM models to estimate Sleep Apnea and Sleep Stages using the respiration signal only. The training data was obtained from MESA, National Sleep Research Resource, USA. I did data cleaning and balancing thereafter feature engineering and selection were done before applying the ML model. Achieved 82.7% accuracy in Sleep Apnea which is higher than any known methods applied on respiration signal in MESA Dataset and achieved more than 80% accuracy in sleep stage classification which can be considered as good accuracy.Visit:http://www.sleepdoc.aihttp://www.facebook.com/mBreathOfficialhttp://www.twitter.com/mBreathOfficialThere are some of the project which I did at mBreath.\\nReal-Time Human Vital Parameter Estimation Using Pressure Sensor and Machine Learning\\nMeasured respiration and heart rate through an array of pressure sensors and Deep Learning (CNN, RNN-LSTM) algorithms. [Filed Patent Ref No. 201731038573]. 96% accuracy was achieved. The project had three stages 1) preprocessing with analog filters, 2) Digital Signal Processing, 3) Machine Learning model thereafter data is uploaded to the cloud for further processing.\\n\\nReal-time Classification of Environmental Sounds & Their Impacts on Sleep Quality\\nCollected audio using a microphone and Qualcomm’s Snapdragon processor enabled custom-built board running Android 6.0. Audio Cleaning, Feature Extraction (more than 700 features) in Temporal, Spectral, Energy, Harmonic, and Cepstral domain, Feature Selection for faster training and better accuracy and ML models (CNN, LSTM, RF, SVM) are designed to classify snoring and other sound and their impact on sleep quality.\\n\\nA Real-Time System and Methods for the Detection of Sleep Apnea and Sleep Stage\\nUsed CNN, Inception, LSTM, CNN-LSTM models to estimate Sleep Apnea and Sleep Stages using the respiration signal only. The training data was obtained from MESA, National Sleep Research Resource, USA. I did data cleaning and balancing thereafter feature engineering and selection were done before applying the ML model. Achieved 82.7% accuracy in Sleep Apnea which is higher than any known methods applied on respiration signal in MESA Dataset and achieved more than 80% accuracy in sleep stage classification which can be considered as good accuracy.\\n\\nVisit:\\nhttp://www.sleepdoc.ai\\nhttp://www.facebook.com/mBreathOfficial\\nhttp://www.twitter.com/mBreathOfficial\\n\\n \\n              …see more\\n            \\n\\n \\n\\n\\n\\n\\n\\n \\n\\n\\n\\n \\n\\n\\n\\n\\n\\n\\n\\n\\n\\n\\n\\n \\n\\n\\n\\n\\nThese IITians say ‘stop losing sleep over sleep,’ develop smart sleep assistant SleepDoc+These IITians say ‘stop losing sleep over sleep,’ develop smart sleep assistant SleepDoc+\\n \\n\\n\\n\\n\\nIncubated by IIT-Kharagpur and Qualcomm, mBreath Technologies’ first offering SleepDoc+ determines the sleep quality of the user, analyses and provides insightful data. The product is all set to hit t...Incubated by IIT-Kharagpur and Qualcomm, mBreath Technologies’ first offering SleepDoc+ determines the sleep quality of the user, analyses and provides insightful data. The product is all set to hit t...\\n\\n \\n\\n\\n\\n\\n\\n\\n\\n\\n \\n\\n\\n \\n\\n \\n\\n\\n\\n\\n\\n\\n\\n\\n\\n\\n\\n\\n\\n\\n\\n\\nData ScientistData Scientist\\n\\n\\n\\n \\n \\nAug 2016 - Nov 2019 · 3 yrs 4 mosAug 2016 to Nov 2019 · 3 yrs 4 mos\\n\\n\\nBangaloreBangalore\\n\\n\\n\\n \\n\\n \\n\\n\\n \\n\\n\\n\\n\\n\\nDeveloped two end-to-end products \"Smart Wireless System and Method for Human Health Monitoring Using Doppler Radar“ [Filed Patent Ref. No. 201731038573]  and \"Smart Sleep Sense System For Human Health Monitoring And Screening Using Velostat Pressure Sensor\" [Filed Patent Ref. 01731041913 ]Worked on multiple fronts including Business Model Development, Customer Acquisition, Market Analysis, Product Feasibility Analysis, and Customer Segmentation and Satisfaction analysis while working as Data ScientistStudied Socio and Economic Impact of healthcare and Sleep Disorder in the US market Did cost optimization while designing the product SleepDoc by keeping time-to-market in mindHaving experience in working with GitHub and Bitbucket for code management.Used Deep Learning (CNN, LSTM, CNN-LSTM, Inception, VGGs), Machine Learning models (Logistic Regression, Random Forest, SVM, and XGBoost), and Feature Selection for real-time audio analysis and classification, sleep apnea detection, sleep stage detection, snoring detection.Developed SleepDoc, SleepDoc uses the FMCW RADAR system to measure respiration and heart rate. Designed Android Application and state-of-the-art ML Algorithms (SVM, RF, CNN, LSTM, CNN-LSTM, Inception) to measure vital parameters. [Filed Patent Ref No. 201731038573]. The 99% accuracy was achieved in Respiration and Heart Rate measurement with 30-sec epochs. Deep learning models were trained on the Google Cloud Platform (GCP) with Tensorflow-GPU.Successfully achieved kernel changes into Android OS to read data on Qualcomm’s Snapdragon processor using SPI, I2C, and UART. Interfaced Java and custom module coded in C-Language in Android 6.0.Designed my own email marketing software for the marketing of SleepDoc. Used AWS Boto3 Python, AWS SES, SNS, SQS, AWS Lambda, DynamoDB, and PyQt5. Written code for automatic email and phone number extractor crawler.Developed two end-to-end products \"Smart Wireless System and Method for Human Health Monitoring Using Doppler Radar“ [Filed Patent Ref. No. 201731038573]  and \"Smart Sleep Sense System For Human Health Monitoring And Screening Using Velostat Pressure Sensor\" [Filed Patent Ref. 01731041913 ]\\n\\nWorked on multiple fronts including Business Model Development, Customer Acquisition, Market Analysis, Product Feasibility Analysis, and Customer Segmentation and Satisfaction analysis while working as Data Scientist\\n\\nStudied Socio and Economic Impact of healthcare and Sleep Disorder in the US market \\nDid cost optimization while designing the product SleepDoc by keeping time-to-market in mind\\n\\nHaving experience in working with GitHub and Bitbucket for code management.\\n\\nUsed Deep Learning (CNN, LSTM, CNN-LSTM, Inception, VGGs), Machine Learning models (Logistic Regression, Random Forest, SVM, and XGBoost), and Feature Selection for real-time audio analysis and classification, sleep apnea detection, sleep stage detection, snoring detection.\\n\\nDeveloped SleepDoc, SleepDoc uses the FMCW RADAR system to measure respiration and heart rate. Designed Android Application and state-of-the-art ML Algorithms (SVM, RF, CNN, LSTM, CNN-LSTM, Inception) to measure vital parameters. [Filed Patent Ref No. 201731038573]. The 99% accuracy was achieved in Respiration and Heart Rate measurement with 30-sec epochs. Deep learning models were trained on the Google Cloud Platform (GCP) with Tensorflow-GPU.\\n\\nSuccessfully achieved kernel changes into Android OS to read data on Qualcomm’s Snapdragon processor using SPI, I2C, and UART. Interfaced Java and custom module coded in C-Language in Android 6.0.\\n\\nDesigned my own email marketing software for the marketing of SleepDoc. Used AWS Boto3 Python, AWS SES, SNS, SQS, AWS Lambda, DynamoDB, and PyQt5. Written code for automatic email and phone number extractor crawler. \\n\\n \\n              …see more\\n            \\n\\n \\n\\n\\n\\n\\n\\n \\n\\n\\n \\n\\n \\n\\n\\n \\n\\n \\n\\n\\n \\n\\n\\n\\n\\n\\n \\n\\n\\n\\n\\n\\n\\n\\n\\n\\n\\n\\nIndian Institute of Technology, KharagpurIndian Institute of Technology, Kharagpur\\n\\n\\n\\n \\n\\n4 yrs 8 mos4 yrs 8 mos\\n\\n \\n\\n \\n\\n \\n\\n\\n\\n\\n\\n\\n\\n\\n\\n\\n\\n\\n\\n\\n\\nStudentStudent\\n\\n\\n\\n \\n \\nJul 2012 - Feb 2017 · 4 yrs 8 mosJul 2012 to Feb 2017 · 4 yrs 8 mos\\n\\n\\nKharagpur, IndiaKharagpur, India\\n\\n\\n\\n \\n \\n \\n\\n\\n\\n\\n\\n\\n\\n\\n\\n\\n\\n\\n\\n\\n\\n\\nTeacher AssistantTeacher Assistant\\n\\n\\n\\n \\n \\nJan 2013 - Jan 2017 · 4 yrs 1 moJan 2013 to Jan 2017 · 4 yrs 1 mo\\n\\n\\nIIT KharagpurIIT Kharagpur\\n\\n\\n\\n \\n\\n \\n\\n\\n \\n\\n\\n\\n\\n\\nIt was a great experience to teach Embedded Systems. The objective of the teaching is the implementation of the adaptive filter on embedded hardware and software.Implementation of the DSP algorithms was done in Assembly language. Students get comprehensive knowledge of Embedded System and IoT. It was a great experience to teach Embedded Systems. The objective of the teaching is the implementation of the adaptive filter on embedded hardware and software.\\nImplementation of the DSP algorithms was done in Assembly language. Students get comprehensive knowledge of Embedded System and IoT. \\n\\n \\n              …see more\\n            \\n\\n \\n\\n\\n\\n\\n\\n \\n\\n\\n \\n\\n \\n\\n\\n\\n\\n\\n\\n\\n\\n\\n\\n\\n\\n\\n\\n\\n\\nM.TechM.Tech\\n\\n\\n\\n \\n \\nJul 2012 - Jun 2014 · 2 yrsJul 2012 to Jun 2014 · 2 yrs\\n\\n\\nIIT KharagpurIIT Kharagpur\\n\\n\\n\\n \\n \\n \\n\\n\\n \\n\\n \\n\\n\\n \\n\\n'"
      ]
     },
     "execution_count": 156,
     "metadata": {},
     "output_type": "execute_result"
    }
   ],
   "source": [
    "# read experience\n",
    "page_source = driver.page_source\n",
    "soup = BeautifulSoup(page_source, 'lxml')\n",
    "sections = soup.find_all('section', {'class':'artdeco-card pv-profile-card break-words mt2'})\n",
    "\n",
    "for sec in sections:\n",
    "    if sec.find('div', {'id': 'experience'}):\n",
    "        experience = sec\n",
    "\n",
    "\n",
    "experience.get_text()"
   ]
  },
  {
   "cell_type": "code",
   "execution_count": 157,
   "metadata": {},
   "outputs": [],
   "source": [
    "experience = experience.find_all('div', {'class': 'gFJNglFOnyZmIAbxVkrWpQCmMhGSasZRfRtGlFg YcvguSXGGYgEmpWJOhQrhmNocNiIvvDjETE bAMoJMoZyFCvvmHkHNQEBnMuJTWUocrss'})"
   ]
  },
  {
   "cell_type": "code",
   "execution_count": 158,
   "metadata": {},
   "outputs": [],
   "source": [
    "exp = experience[2]"
   ]
  },
  {
   "cell_type": "code",
   "execution_count": 159,
   "metadata": {},
   "outputs": [
    {
     "data": {
      "text/plain": [
       "('Indian Institute of Technology, Kharagpur', '4 yrs 8 mos')"
      ]
     },
     "execution_count": 159,
     "metadata": {},
     "output_type": "execute_result"
    }
   ],
   "source": [
    "company_name = exp.find('div', {'class': 'display-flex flex-wrap align-items-center full-height'}).get_text().strip()\n",
    "company_name = company_name[:len(company_name)//2]\n",
    "\n",
    "company_duration = exp.find('span', {'class': 't-14 t-normal'}).get_text().strip()\n",
    "company_duration = company_duration[:len(company_duration)//2]\n",
    "company_name, company_duration"
   ]
  },
  {
   "cell_type": "code",
   "execution_count": 160,
   "metadata": {},
   "outputs": [
    {
     "data": {
      "text/plain": [
       "3"
      ]
     },
     "execution_count": 160,
     "metadata": {},
     "output_type": "execute_result"
    }
   ],
   "source": [
    "companies = exp.find_all('div', {'class': 'gFJNglFOnyZmIAbxVkrWpQCmMhGSasZRfRtGlFg'})\n",
    "\n",
    "len(companies)\n"
   ]
  },
  {
   "cell_type": "code",
   "execution_count": 161,
   "metadata": {},
   "outputs": [
    {
     "data": {
      "text/plain": [
       "3"
      ]
     },
     "execution_count": 161,
     "metadata": {},
     "output_type": "execute_result"
    }
   ],
   "source": [
    "len(experience)"
   ]
  },
  {
   "cell_type": "code",
   "execution_count": 162,
   "metadata": {},
   "outputs": [
    {
     "data": {
      "text/plain": [
       "[<span class=\"visually-hidden\"><!-- -->Student<!-- --></span>,\n",
       " <span class=\"visually-hidden\"><!-- -->Jul 2012 to Feb 2017 · 4 yrs 8 mos<!-- --></span>,\n",
       " <span class=\"visually-hidden\"><!-- -->Kharagpur, India<!-- --></span>]"
      ]
     },
     "execution_count": 162,
     "metadata": {},
     "output_type": "execute_result"
    }
   ],
   "source": [
    "# for pos in positions:\n",
    "#     print(pos.get_text())\n",
    "\n",
    "position = companies[0]\n",
    "\n",
    "position.find_all('span', {'class': 'visually-hidden'})"
   ]
  },
  {
   "cell_type": "code",
   "execution_count": null,
   "metadata": {},
   "outputs": [],
   "source": []
  },
  {
   "cell_type": "code",
   "execution_count": 163,
   "metadata": {},
   "outputs": [
    {
     "data": {
      "text/plain": [
       "'\\n\\n\\n\\n\\n\\n\\n\\n\\n\\n \\nEducationEducation\\n\\n \\n \\n \\n\\n\\n \\n\\n \\n\\n\\n\\n\\n\\n \\n\\n\\n\\n\\n\\n\\n\\n\\n\\n\\n\\nIndian Institute of Technology, KharagpurIndian Institute of Technology, Kharagpur\\n\\n\\n\\n \\n\\nSenior Research Scholar, Computer ScienceSenior Research Scholar, Computer Science\\n\\n\\n2014 - 20162014 - 2016\\n\\n \\n\\n \\n\\n \\n\\n\\n \\n\\n\\n\\n\\n\\nDesigned two systems and methods for wireless respiration and heart rate monitoring. Patents are filed for both systems.Signal processing algorithms are developed to estimated respiration and heart rate accurately.Machine learning algorithms and Android application designed to detect Sleep Apnea, Snoring, and Stages of Sleep. Data was also uploaded to the cloud.Designed two systems and methods for wireless respiration and heart rate monitoring. Patents are filed for both systems.\\n\\nSignal processing algorithms are developed to estimated respiration and heart rate accurately.\\n\\nMachine learning algorithms and Android application designed to detect Sleep Apnea, Snoring, and Stages of Sleep. Data was also uploaded to the cloud. \\n\\n \\n              …see more\\n            \\n\\n \\n\\n\\n\\n\\n\\n \\n\\n\\n \\n\\n \\n\\n\\n \\n\\n\\n\\n\\n\\n \\n\\n\\n\\n\\n\\n\\n\\n\\n\\n\\n\\nIndian Institute of Technology, KharagpurIndian Institute of Technology, Kharagpur\\n\\n\\n\\n \\n\\nMaster of Technology (M.Tech.), Computer Science Master of Technology (M.Tech.), Computer Science \\n\\n\\n2012 - 20142012 - 2014\\n\\n \\n\\n \\n\\n \\n\\n\\n \\n\\n\\n\\n\\n\\nReal-Time Kalman Filter is implemented in C languageStudied Designing of Algorithms and Analysis, Data Structure, Machine Learning, Computer Architecture, Java, C, Embedded System and Implemented 5-stage pipelined RISC processor in Verilog as term project. Taught embedded system and IoT to UG students at IIT Kharagpur as TAReal-Time Kalman Filter is implemented in C language\\n\\nStudied Designing of Algorithms and Analysis, Data Structure, Machine Learning, Computer Architecture, Java, C, Embedded System and Implemented 5-stage pipelined RISC processor in Verilog as term project. \\n\\nTaught embedded system and IoT to UG students at IIT Kharagpur as TA \\n\\n \\n              …see more\\n            \\n\\n \\n\\n\\n\\n\\n\\n \\n\\n\\n \\n\\n \\n\\n\\n \\n\\n'"
      ]
     },
     "execution_count": 163,
     "metadata": {},
     "output_type": "execute_result"
    }
   ],
   "source": [
    "## Education\n",
    "\n",
    "for sec in sections:\n",
    "    if sec.find('div', {'id': 'education'}):\n",
    "        educations = sec\n",
    "\n",
    "\n",
    "educations.get_text()"
   ]
  },
  {
   "cell_type": "code",
   "execution_count": 164,
   "metadata": {},
   "outputs": [],
   "source": [
    "educations = educations.find_all('div', {'class': 'gFJNglFOnyZmIAbxVkrWpQCmMhGSasZRfRtGlFg YcvguSXGGYgEmpWJOhQrhmNocNiIvvDjETE bAMoJMoZyFCvvmHkHNQEBnMuJTWUocrss'})"
   ]
  },
  {
   "cell_type": "code",
   "execution_count": 165,
   "metadata": {},
   "outputs": [
    {
     "name": "stdout",
     "output_type": "stream",
     "text": [
      "2\n"
     ]
    }
   ],
   "source": [
    "print(len(educations))\n",
    "\n",
    "education = educations[0]"
   ]
  },
  {
   "cell_type": "code",
   "execution_count": 166,
   "metadata": {},
   "outputs": [
    {
     "data": {
      "text/plain": [
       "[<span class=\"visually-hidden\"><!-- -->Indian Institute of Technology, Kharagpur<!-- --></span>,\n",
       " <span class=\"visually-hidden\"><!-- -->Senior Research Scholar, Computer Science<!-- --></span>,\n",
       " <span class=\"visually-hidden\"><!-- -->2014 - 2016<!-- --></span>,\n",
       " <span class=\"visually-hidden\"><!-- -->Designed two systems and methods for wireless respiration and heart rate monitoring. Patents are filed for both systems.\n",
       " \n",
       " Signal processing algorithms are developed to estimated respiration and heart rate accurately.\n",
       " \n",
       " Machine learning algorithms and Android application designed to detect Sleep Apnea, Snoring, and Stages of Sleep. Data was also uploaded to the cloud.<span class=\"white-space-pre\"> </span></span>]"
      ]
     },
     "execution_count": 166,
     "metadata": {},
     "output_type": "execute_result"
    }
   ],
   "source": [
    "education.find_all('span', {'class': 'visually-hidden'})"
   ]
  },
  {
   "cell_type": "code",
   "execution_count": 167,
   "metadata": {},
   "outputs": [
    {
     "data": {
      "text/plain": [
       "[<span class=\"visually-hidden\"><!-- -->Indian Institute of Technology, Kharagpur<!-- --></span>,\n",
       " <span class=\"visually-hidden\"><!-- -->Master of Technology (M.Tech.), Computer Science<span class=\"white-space-pre\"> </span></span>,\n",
       " <span class=\"visually-hidden\"><!-- -->2012 - 2014<!-- --></span>,\n",
       " <span class=\"visually-hidden\"><!-- -->Real-Time Kalman Filter is implemented in C language\n",
       " \n",
       " Studied Designing of Algorithms and Analysis, Data Structure, Machine Learning, Computer Architecture, Java, C, Embedded System and Implemented 5-stage pipelined RISC processor in Verilog as term project. \n",
       " \n",
       " Taught embedded system and IoT to UG students at IIT Kharagpur as TA<span class=\"white-space-pre\"> </span></span>]"
      ]
     },
     "execution_count": 167,
     "metadata": {},
     "output_type": "execute_result"
    }
   ],
   "source": [
    "educations[1].find_all('span', {'class': 'visually-hidden'})"
   ]
  },
  {
   "cell_type": "code",
   "execution_count": null,
   "metadata": {},
   "outputs": [],
   "source": []
  },
  {
   "cell_type": "code",
   "execution_count": 168,
   "metadata": {},
   "outputs": [
    {
     "data": {
      "text/plain": [
       "'\\n\\n\\n\\n\\n\\n\\n\\n\\n\\n \\nLicenses & certificationsLicenses & certifications\\n\\n \\n \\n \\n\\n\\n \\n\\n \\n\\n\\n\\n\\n\\n \\n\\n\\n\\n\\n\\n\\n\\n\\n\\n\\n\\nProduct Analytics Micro CertificateProduct Analytics Micro Certificate\\n\\n\\n\\n \\n\\nProduct SchoolProduct School\\n\\n\\nIssued Jan 2024Issued Jan 2024\\n\\n \\n\\n \\n\\n \\n\\n\\n\\n\\n \\n              Show credential\\n            \\n\\n\\n\\n\\n\\n\\n\\n\\n\\n\\n\\n\\n \\n\\n\\n\\n\\n\\n\\n\\n\\n\\n\\n\\n\\n\\n\\n\\n\\n\\n\\n\\nData Analytics, Product Management and +1 skill\\n\\n\\n\\n\\n \\n\\n\\n \\n\\n\\n \\n\\n \\n\\n\\n \\n\\n\\n\\n\\n\\n \\n\\n\\n\\n\\n\\n\\n\\n\\n\\n\\n\\nAccenture Innovation AwardAccenture Innovation Award\\n\\n\\n\\n \\n\\nAccentureAccenture\\n\\n\\nIssued Nov 2017Issued Nov 2017\\n\\n\\n\\n\\n \\n \\n \\n\\n\\n\\n\\n\\n\\n \\n              Show all 6 licenses & certifications\\n            \\n\\n\\n\\n\\n\\n\\n\\n\\n\\n\\n\\n\\n'"
      ]
     },
     "execution_count": 168,
     "metadata": {},
     "output_type": "execute_result"
    }
   ],
   "source": [
    "# Licenses and Certifications\n",
    "\n",
    "for sec in sections:\n",
    "    if sec.find('div', {'id': 'licenses_and_certifications'}):\n",
    "        licenses_and_certifications = sec\n",
    "\n",
    "\n",
    "licenses_and_certifications.get_text()"
   ]
  },
  {
   "cell_type": "code",
   "execution_count": 170,
   "metadata": {},
   "outputs": [],
   "source": [
    "driver.find_element(By.ID, \"navigation-index-see-all-licenses-and-certifications\").click()\n",
    "\n",
    "# read the page\n",
    "\n",
    "\n",
    "# go back to the previous page\n",
    "# driver.back()"
   ]
  },
  {
   "cell_type": "code",
   "execution_count": 182,
   "metadata": {},
   "outputs": [],
   "source": [
    "page_source = driver.page_source\n",
    "soup = BeautifulSoup(page_source, 'lxml')\n",
    "\n",
    "soup = soup.find('section', {'class': 'artdeco-card pb3'})"
   ]
  },
  {
   "cell_type": "code",
   "execution_count": 183,
   "metadata": {},
   "outputs": [],
   "source": [
    "certificates = soup.find_all('div', {'class': 'gFJNglFOnyZmIAbxVkrWpQCmMhGSasZRfRtGlFg YcvguSXGGYgEmpWJOhQrhmNocNiIvvDjETE bAMoJMoZyFCvvmHkHNQEBnMuJTWUocrss'})\n",
    "item = certificates[0]\n",
    "\n",
    "item.find_all('span', {'class': 'visually-hidden'})"
   ]
  },
  {
   "cell_type": "code",
   "execution_count": 188,
   "metadata": {},
   "outputs": [
    {
     "data": {
      "text/plain": [
       "[<span class=\"visually-hidden\"><!-- -->Product Analytics Micro Certificate<!-- --></span>,\n",
       " <span class=\"visually-hidden\"><!-- -->Product School<!-- --></span>,\n",
       " <span class=\"visually-hidden\"><!-- -->Issued Jan 2024<!-- --></span>,\n",
       " <span class=\"visually-hidden\"><strong><!-- -->Skills:<!-- --></strong><span class=\"white-space-pre\"> </span>Data Analytics · Product Management · Data Analysis<!-- --></span>]"
      ]
     },
     "execution_count": 188,
     "metadata": {},
     "output_type": "execute_result"
    }
   ],
   "source": []
  },
  {
   "cell_type": "code",
   "execution_count": 190,
   "metadata": {},
   "outputs": [],
   "source": [
    "# go back to the previous page\n",
    "driver.back()"
   ]
  },
  {
   "cell_type": "code",
   "execution_count": 191,
   "metadata": {},
   "outputs": [],
   "source": [
    "# Projects\n",
    "driver.find_element(By.ID, \"navigation-index-see-all-projects\").click()\n",
    "\n",
    "# read the page\n"
   ]
  },
  {
   "cell_type": "code",
   "execution_count": 196,
   "metadata": {},
   "outputs": [],
   "source": [
    "page_source = driver.page_source\n",
    "soup = BeautifulSoup(page_source, 'lxml')\n",
    "\n",
    "soup = soup.find('section', {'class': 'artdeco-card pb3'})"
   ]
  },
  {
   "cell_type": "code",
   "execution_count": 202,
   "metadata": {},
   "outputs": [
    {
     "data": {
      "text/plain": [
       "[<span class=\"visually-hidden\"><!-- -->Transistor Characteristics Curve Tracer<!-- --></span>,\n",
       " <span class=\"visually-hidden\"><!-- -->Feb 2012 - May 2013<!-- --></span>,\n",
       " <span class=\"visually-hidden\"><!-- -->A cost effective and reliable curve tracer has been designed and developed for NPN- PNP transistors using AT89C51 microcontroller. The system plots desired number of transfer and static characteristics curves on a given range of constant biasing parameter viz; VCE and IB resp. The system plots these characteristics curves of the given transistor on the available computer system through the developed software on Visual BASIC 6.0.  h-parameters of the transistor have also been obtained for different design requirement. All the data has also been stored in a user defined output file for further analysis.<!-- --></span>]"
      ]
     },
     "execution_count": 202,
     "metadata": {},
     "output_type": "execute_result"
    }
   ],
   "source": [
    "projects = soup.find_all('div', {'class': 'gFJNglFOnyZmIAbxVkrWpQCmMhGSasZRfRtGlFg YcvguSXGGYgEmpWJOhQrhmNocNiIvvDjETE bAMoJMoZyFCvvmHkHNQEBnMuJTWUocrss'})\n",
    "item = projects[3]\n",
    "\n",
    "item.find_all('span', {'class': 'visually-hidden'})"
   ]
  },
  {
   "cell_type": "code",
   "execution_count": null,
   "metadata": {},
   "outputs": [],
   "source": [
    "# go back to the previous page\n",
    "driver.back()"
   ]
  },
  {
   "cell_type": "code",
   "execution_count": null,
   "metadata": {},
   "outputs": [],
   "source": []
  },
  {
   "cell_type": "code",
   "execution_count": null,
   "metadata": {},
   "outputs": [],
   "source": []
  },
  {
   "cell_type": "code",
   "execution_count": 211,
   "metadata": {},
   "outputs": [],
   "source": [
    "# All Courses\n",
    "driver.find_element(By.ID, \"navigation-index-see-all-courses\").click()\n",
    "\n",
    "# read the page"
   ]
  },
  {
   "cell_type": "code",
   "execution_count": 212,
   "metadata": {},
   "outputs": [
    {
     "data": {
      "text/plain": [
       "[<span class=\"visually-hidden\"><!-- -->Computational Methods and Algorithm for Signal Processing<!-- --></span>,\n",
       " <span class=\"visually-hidden\"><!-- -->Associated with Indian Institute of Technology, Kharagpur<!-- --></span>]"
      ]
     },
     "execution_count": 212,
     "metadata": {},
     "output_type": "execute_result"
    }
   ],
   "source": [
    "page_source = driver.page_source\n",
    "soup = BeautifulSoup(page_source, 'lxml')\n",
    "\n",
    "soup = soup.find('section', {'class': 'artdeco-card pb3'})\n",
    "\n",
    "projects = soup.find_all('div', {'class': 'gFJNglFOnyZmIAbxVkrWpQCmMhGSasZRfRtGlFg YcvguSXGGYgEmpWJOhQrhmNocNiIvvDjETE bAMoJMoZyFCvvmHkHNQEBnMuJTWUocrss'})\n",
    "item = projects[3]\n",
    "\n",
    "item.find_all('span', {'class': 'visually-hidden'})"
   ]
  },
  {
   "cell_type": "code",
   "execution_count": 205,
   "metadata": {},
   "outputs": [
    {
     "data": {
      "text/plain": [
       "[<span class=\"visually-hidden\"><!-- -->Computational Methods and Algorithm for Signal Processing<!-- --></span>,\n",
       " <span class=\"visually-hidden\"><!-- -->Associated with Indian Institute of Technology, Kharagpur<!-- --></span>]"
      ]
     },
     "execution_count": 205,
     "metadata": {},
     "output_type": "execute_result"
    }
   ],
   "source": []
  },
  {
   "cell_type": "code",
   "execution_count": 206,
   "metadata": {},
   "outputs": [],
   "source": [
    "# go back to the previous page\n",
    "driver.back()"
   ]
  },
  {
   "cell_type": "code",
   "execution_count": null,
   "metadata": {},
   "outputs": [],
   "source": []
  },
  {
   "cell_type": "code",
   "execution_count": null,
   "metadata": {},
   "outputs": [],
   "source": []
  },
  {
   "cell_type": "code",
   "execution_count": null,
   "metadata": {},
   "outputs": [],
   "source": []
  },
  {
   "cell_type": "code",
   "execution_count": null,
   "metadata": {},
   "outputs": [],
   "source": []
  },
  {
   "cell_type": "code",
   "execution_count": 34,
   "metadata": {},
   "outputs": [],
   "source": [
    "# All Patents\n",
    "# driver.find_element(By.ID, \"navigation-index-see-all-patents\").click()\n",
    "\n",
    "# read the page"
   ]
  },
  {
   "cell_type": "code",
   "execution_count": null,
   "metadata": {},
   "outputs": [],
   "source": [
    "# All Honors and Awards\n",
    "driver.find_element(By.ID, \"navigation-index-see-all-honorsandawards\").click()"
   ]
  },
  {
   "cell_type": "code",
   "execution_count": 210,
   "metadata": {},
   "outputs": [
    {
     "data": {
      "text/plain": [
       "[<span class=\"visually-hidden\"><!-- -->Top 50 Innovators Award at India IIGP 2.0 Boot Camp, IIM Ahmedabad<span class=\"white-space-pre\"> </span></span>]"
      ]
     },
     "execution_count": 210,
     "metadata": {},
     "output_type": "execute_result"
    }
   ],
   "source": [
    "# read the page\n",
    "page_source = driver.page_source\n",
    "soup = BeautifulSoup(page_source, 'lxml')\n",
    "\n",
    "soup = soup.find('section', {'class': 'artdeco-card pb3'})\n",
    "\n",
    "projects = soup.find_all('div', {'class': 'gFJNglFOnyZmIAbxVkrWpQCmMhGSasZRfRtGlFg YcvguSXGGYgEmpWJOhQrhmNocNiIvvDjETE bAMoJMoZyFCvvmHkHNQEBnMuJTWUocrss'})\n",
    "item = projects[3]\n",
    "\n",
    "item.find_all('span', {'class': 'visually-hidden'})"
   ]
  },
  {
   "cell_type": "code",
   "execution_count": null,
   "metadata": {},
   "outputs": [],
   "source": []
  },
  {
   "cell_type": "code",
   "execution_count": null,
   "metadata": {},
   "outputs": [],
   "source": []
  },
  {
   "cell_type": "code",
   "execution_count": null,
   "metadata": {},
   "outputs": [],
   "source": []
  },
  {
   "cell_type": "code",
   "execution_count": null,
   "metadata": {},
   "outputs": [],
   "source": []
  }
 ],
 "metadata": {
  "kernelspec": {
   "display_name": "ml",
   "language": "python",
   "name": "python3"
  },
  "language_info": {
   "codemirror_mode": {
    "name": "ipython",
    "version": 3
   },
   "file_extension": ".py",
   "mimetype": "text/x-python",
   "name": "python",
   "nbconvert_exporter": "python",
   "pygments_lexer": "ipython3",
   "version": "3.12.4"
  }
 },
 "nbformat": 4,
 "nbformat_minor": 2
}
